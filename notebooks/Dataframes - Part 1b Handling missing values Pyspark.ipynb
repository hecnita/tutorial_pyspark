{
 "cells": [
  {
   "cell_type": "code",
   "execution_count": 1,
   "id": "7579360e",
   "metadata": {},
   "outputs": [],
   "source": [
    "from pyspark.sql import SparkSession"
   ]
  },
  {
   "cell_type": "code",
   "execution_count": 3,
   "id": "4fa7331d",
   "metadata": {},
   "outputs": [],
   "source": [
    "spark = SparkSession.builder.appName('Dataframe').getOrCreate()"
   ]
  },
  {
   "cell_type": "code",
   "execution_count": 4,
   "id": "9b2da179",
   "metadata": {},
   "outputs": [
    {
     "data": {
      "text/plain": [
       "DataFrame[Name: string, age: int, Experience: int, Salary: int]"
      ]
     },
     "execution_count": 4,
     "metadata": {},
     "output_type": "execute_result"
    }
   ],
   "source": [
    "pyspark_df = spark.read.csv('../datasets/test2.csv', header=True, inferSchema=True)\n",
    "pyspark_df"
   ]
  },
  {
   "cell_type": "code",
   "execution_count": 5,
   "id": "723c2cde",
   "metadata": {},
   "outputs": [
    {
     "name": "stdout",
     "output_type": "stream",
     "text": [
      "+---------+----+----------+------+\n",
      "|     Name| age|Experience|Salary|\n",
      "+---------+----+----------+------+\n",
      "|    Krish|  31|        10| 30000|\n",
      "|Sudhanshu|  30|         8| 25000|\n",
      "|    Sunny|  29|         4| 20000|\n",
      "|     Paul|  24|         3| 20000|\n",
      "|   Harsha|  21|         1| 15000|\n",
      "|  Shubham|  23|         2| 18000|\n",
      "|   Mahesh|null|      null| 40000|\n",
      "|     null|  34|        10| 38000|\n",
      "|     null|  36|      null|  null|\n",
      "+---------+----+----------+------+\n",
      "\n"
     ]
    }
   ],
   "source": [
    "pyspark_df.show()"
   ]
  },
  {
   "cell_type": "markdown",
   "id": "103b2a8a",
   "metadata": {},
   "source": [
    "#### Borrar valores faltantes"
   ]
  },
  {
   "cell_type": "code",
   "execution_count": 6,
   "id": "a0a51840",
   "metadata": {},
   "outputs": [
    {
     "name": "stdout",
     "output_type": "stream",
     "text": [
      "+---------+---+----------+------+\n",
      "|     Name|age|Experience|Salary|\n",
      "+---------+---+----------+------+\n",
      "|    Krish| 31|        10| 30000|\n",
      "|Sudhanshu| 30|         8| 25000|\n",
      "|    Sunny| 29|         4| 20000|\n",
      "|     Paul| 24|         3| 20000|\n",
      "|   Harsha| 21|         1| 15000|\n",
      "|  Shubham| 23|         2| 18000|\n",
      "+---------+---+----------+------+\n",
      "\n"
     ]
    }
   ],
   "source": [
    "# Si no se le pasa argumento al drop, elimina todas aquellas filas que contengan\n",
    "# algún nulo\n",
    "pyspark_df.na.drop().show()"
   ]
  },
  {
   "cell_type": "code",
   "execution_count": 8,
   "id": "2d03de8a",
   "metadata": {},
   "outputs": [
    {
     "name": "stdout",
     "output_type": "stream",
     "text": [
      "+---------+----+----------+------+\n",
      "|     Name| age|Experience|Salary|\n",
      "+---------+----+----------+------+\n",
      "|    Krish|  31|        10| 30000|\n",
      "|Sudhanshu|  30|         8| 25000|\n",
      "|    Sunny|  29|         4| 20000|\n",
      "|     Paul|  24|         3| 20000|\n",
      "|   Harsha|  21|         1| 15000|\n",
      "|  Shubham|  23|         2| 18000|\n",
      "|   Mahesh|null|      null| 40000|\n",
      "|     null|  34|        10| 38000|\n",
      "|     null|  36|      null|  null|\n",
      "+---------+----+----------+------+\n",
      "\n"
     ]
    }
   ],
   "source": [
    "# Probando parámetros del drop\n",
    "# parámetro how=all\n",
    "# Elimina solo aquellas filas que contengan todo nulos.\n",
    "# En este caso no existe en el df una fila con todo nulos\n",
    "pyspark_df.na.drop(how='all').show()"
   ]
  },
  {
   "cell_type": "code",
   "execution_count": 9,
   "id": "3d4539fd",
   "metadata": {},
   "outputs": [
    {
     "name": "stdout",
     "output_type": "stream",
     "text": [
      "+---------+----+----------+------+\n",
      "|     Name| age|Experience|Salary|\n",
      "+---------+----+----------+------+\n",
      "|    Krish|  31|        10| 30000|\n",
      "|Sudhanshu|  30|         8| 25000|\n",
      "|    Sunny|  29|         4| 20000|\n",
      "|     Paul|  24|         3| 20000|\n",
      "|   Harsha|  21|         1| 15000|\n",
      "|  Shubham|  23|         2| 18000|\n",
      "|   Mahesh|null|      null| 40000|\n",
      "|     null|  34|        10| 38000|\n",
      "+---------+----+----------+------+\n",
      "\n"
     ]
    }
   ],
   "source": [
    "# parámetro threshold=2\n",
    "# Elimina aquellas filas en las que no haya al menos dos valores que no sean\n",
    "# nulos\n",
    "pyspark_df.na.drop(thresh=2).show()"
   ]
  },
  {
   "cell_type": "code",
   "execution_count": 11,
   "id": "2b0adeb2",
   "metadata": {},
   "outputs": [
    {
     "name": "stdout",
     "output_type": "stream",
     "text": [
      "+---------+----+----------+------+\n",
      "|     Name| age|Experience|Salary|\n",
      "+---------+----+----------+------+\n",
      "|    Krish|  31|        10| 30000|\n",
      "|Sudhanshu|  30|         8| 25000|\n",
      "|    Sunny|  29|         4| 20000|\n",
      "|     Paul|  24|         3| 20000|\n",
      "|   Harsha|  21|         1| 15000|\n",
      "|  Shubham|  23|         2| 18000|\n",
      "|   Mahesh|null|      null| 40000|\n",
      "|     null|  34|        10| 38000|\n",
      "+---------+----+----------+------+\n",
      "\n"
     ]
    }
   ],
   "source": [
    "pyspark_df.na.drop(thresh=1).show()"
   ]
  },
  {
   "cell_type": "code",
   "execution_count": 13,
   "id": "80a6f03e",
   "metadata": {},
   "outputs": [
    {
     "name": "stdout",
     "output_type": "stream",
     "text": [
      "+---------+---+----------+------+\n",
      "|     Name|age|Experience|Salary|\n",
      "+---------+---+----------+------+\n",
      "|    Krish| 31|        10| 30000|\n",
      "|Sudhanshu| 30|         8| 25000|\n",
      "|    Sunny| 29|         4| 20000|\n",
      "|     Paul| 24|         3| 20000|\n",
      "|   Harsha| 21|         1| 15000|\n",
      "|  Shubham| 23|         2| 18000|\n",
      "|     null| 34|        10| 38000|\n",
      "+---------+---+----------+------+\n",
      "\n"
     ]
    }
   ],
   "source": [
    "pyspark_df.na.drop(thresh=3).show()"
   ]
  },
  {
   "cell_type": "code",
   "execution_count": 14,
   "id": "a0d7766a",
   "metadata": {},
   "outputs": [
    {
     "name": "stdout",
     "output_type": "stream",
     "text": [
      "+---------+---+----------+------+\n",
      "|     Name|age|Experience|Salary|\n",
      "+---------+---+----------+------+\n",
      "|    Krish| 31|        10| 30000|\n",
      "|Sudhanshu| 30|         8| 25000|\n",
      "|    Sunny| 29|         4| 20000|\n",
      "|     Paul| 24|         3| 20000|\n",
      "|   Harsha| 21|         1| 15000|\n",
      "|  Shubham| 23|         2| 18000|\n",
      "|     null| 34|        10| 38000|\n",
      "+---------+---+----------+------+\n",
      "\n"
     ]
    }
   ],
   "source": [
    "# parámetro subset\n",
    "# Se borran aquellas filas con valores faltantes en las columnas indicadas\n",
    "pyspark_df.na.drop(subset=['Experience']).show()"
   ]
  },
  {
   "cell_type": "code",
   "execution_count": 16,
   "id": "7ab8292b",
   "metadata": {},
   "outputs": [
    {
     "name": "stdout",
     "output_type": "stream",
     "text": [
      "+---------+---+----------+------+\n",
      "|     Name|age|Experience|Salary|\n",
      "+---------+---+----------+------+\n",
      "|    Krish| 31|        10| 30000|\n",
      "|Sudhanshu| 30|         8| 25000|\n",
      "|    Sunny| 29|         4| 20000|\n",
      "|     Paul| 24|         3| 20000|\n",
      "|   Harsha| 21|         1| 15000|\n",
      "|  Shubham| 23|         2| 18000|\n",
      "+---------+---+----------+------+\n",
      "\n"
     ]
    }
   ],
   "source": [
    "pyspark_df.na.drop(subset=['Experience', 'Name']).show()"
   ]
  },
  {
   "cell_type": "markdown",
   "id": "9ce23b0e",
   "metadata": {},
   "source": [
    "#### Rellenar valores faltantes"
   ]
  },
  {
   "cell_type": "code",
   "execution_count": 17,
   "id": "63254b97",
   "metadata": {},
   "outputs": [
    {
     "name": "stdout",
     "output_type": "stream",
     "text": [
      "+-----------------+----+----------+------+\n",
      "|             Name| age|Experience|Salary|\n",
      "+-----------------+----+----------+------+\n",
      "|            Krish|  31|        10| 30000|\n",
      "|        Sudhanshu|  30|         8| 25000|\n",
      "|            Sunny|  29|         4| 20000|\n",
      "|             Paul|  24|         3| 20000|\n",
      "|           Harsha|  21|         1| 15000|\n",
      "|          Shubham|  23|         2| 18000|\n",
      "|           Mahesh|null|      null| 40000|\n",
      "|Valores faltantes|  34|        10| 38000|\n",
      "|Valores faltantes|  36|      null|  null|\n",
      "+-----------------+----+----------+------+\n",
      "\n"
     ]
    }
   ],
   "source": [
    "# Probando parámetros de fill\n",
    "# parámetro value\n",
    "# Importante: No se rellenan todos los valores null. Solo aquellos que\n",
    "# corresponden el tipo de valor indicado\n",
    "pyspark_df.na.fill('Valores faltantes').show()"
   ]
  },
  {
   "cell_type": "code",
   "execution_count": 24,
   "id": "9de11d2d",
   "metadata": {},
   "outputs": [
    {
     "name": "stdout",
     "output_type": "stream",
     "text": [
      "+---------+--------+----------+--------+\n",
      "|     Name|     age|Experience|  Salary|\n",
      "+---------+--------+----------+--------+\n",
      "|    Krish|      31|        10|   30000|\n",
      "|Sudhanshu|      30|         8|   25000|\n",
      "|    Sunny|      29|         4|   20000|\n",
      "|     Paul|      24|         3|   20000|\n",
      "|   Harsha|      21|         1|   15000|\n",
      "|  Shubham|      23|         2|   18000|\n",
      "|   Mahesh|23232323|  23232323|   40000|\n",
      "|     null|      34|        10|   38000|\n",
      "|     null|      36|  23232323|23232323|\n",
      "+---------+--------+----------+--------+\n",
      "\n"
     ]
    }
   ],
   "source": [
    "# Aqui se rellenan las columnas numéricas\n",
    "pyspark_df.na.fill(23232323).show()"
   ]
  },
  {
   "cell_type": "code",
   "execution_count": 26,
   "id": "5a403a48",
   "metadata": {},
   "outputs": [
    {
     "name": "stdout",
     "output_type": "stream",
     "text": [
      "+---------+----+----------+------+\n",
      "|     Name| age|Experience|Salary|\n",
      "+---------+----+----------+------+\n",
      "|    Krish|  31|        10| 30000|\n",
      "|Sudhanshu|  30|         8| 25000|\n",
      "|    Sunny|  29|         4| 20000|\n",
      "|     Paul|  24|         3| 20000|\n",
      "|   Harsha|  21|         1| 15000|\n",
      "|  Shubham|  23|         2| 18000|\n",
      "|   Mahesh|null|      null| 40000|\n",
      "|     null|  34|        10| 38000|\n",
      "|     null|  36|      null|  null|\n",
      "+---------+----+----------+------+\n",
      "\n"
     ]
    }
   ],
   "source": [
    "# parámetro subset\n",
    "# para indicar la columna o columnas a rellenar. No permite rellenar la columna\n",
    "# con distinto tipo\n",
    "pyspark_df.na.fill('Valores faltantes', 'Experience').show()"
   ]
  },
  {
   "cell_type": "code",
   "execution_count": 27,
   "id": "fea581e1",
   "metadata": {},
   "outputs": [
    {
     "name": "stdout",
     "output_type": "stream",
     "text": [
      "+-----------------+----+----------+------+\n",
      "|             Name| age|Experience|Salary|\n",
      "+-----------------+----+----------+------+\n",
      "|            Krish|  31|        10| 30000|\n",
      "|        Sudhanshu|  30|         8| 25000|\n",
      "|            Sunny|  29|         4| 20000|\n",
      "|             Paul|  24|         3| 20000|\n",
      "|           Harsha|  21|         1| 15000|\n",
      "|          Shubham|  23|         2| 18000|\n",
      "|           Mahesh|null|      null| 40000|\n",
      "|Valores faltantes|  34|        10| 38000|\n",
      "|Valores faltantes|  36|      null|  null|\n",
      "+-----------------+----+----------+------+\n",
      "\n"
     ]
    }
   ],
   "source": [
    "pyspark_df.na.fill('Valores faltantes', 'Name').show()"
   ]
  },
  {
   "cell_type": "code",
   "execution_count": 30,
   "id": "71249314",
   "metadata": {},
   "outputs": [
    {
     "name": "stdout",
     "output_type": "stream",
     "text": [
      "+---------+--------+----------+--------+\n",
      "|     Name|     age|Experience|  Salary|\n",
      "+---------+--------+----------+--------+\n",
      "|    Krish|      31|        10|   30000|\n",
      "|Sudhanshu|      30|         8|   25000|\n",
      "|    Sunny|      29|         4|   20000|\n",
      "|     Paul|      24|         3|   20000|\n",
      "|   Harsha|      21|         1|   15000|\n",
      "|  Shubham|      23|         2|   18000|\n",
      "|   Mahesh|23232323|      null|   40000|\n",
      "|     null|      34|        10|   38000|\n",
      "|     null|      36|      null|23232323|\n",
      "+---------+--------+----------+--------+\n",
      "\n"
     ]
    }
   ],
   "source": [
    "# varias columnas\n",
    "pyspark_df.na.fill(23232323, ['age', 'Salary']).show()"
   ]
  },
  {
   "cell_type": "markdown",
   "id": "84e07b3b",
   "metadata": {},
   "source": [
    "#### Imputación de valores con media, median, etc"
   ]
  },
  {
   "cell_type": "code",
   "execution_count": 31,
   "id": "0ca2126a",
   "metadata": {},
   "outputs": [],
   "source": [
    "from pyspark.ml.feature import Imputer"
   ]
  },
  {
   "cell_type": "code",
   "execution_count": 40,
   "id": "c5bbaf0e",
   "metadata": {},
   "outputs": [],
   "source": [
    "# Similar a sklearn\n",
    "imputer = Imputer(\n",
    "    inputCols=['age', 'Experience', 'Salary'],\n",
    "    outputCols=['{}_imputed'.format(col) for col in ['age', 'Experience', 'Salary']]\n",
    "    ).setStrategy(\"mean\")"
   ]
  },
  {
   "cell_type": "code",
   "execution_count": 41,
   "id": "5c198ebd",
   "metadata": {},
   "outputs": [
    {
     "name": "stdout",
     "output_type": "stream",
     "text": [
      "+---------+----+----------+------+-----------+------------------+--------------+\n",
      "|     Name| age|Experience|Salary|age_imputed|Experience_imputed|Salary_imputed|\n",
      "+---------+----+----------+------+-----------+------------------+--------------+\n",
      "|    Krish|  31|        10| 30000|         31|                10|         30000|\n",
      "|Sudhanshu|  30|         8| 25000|         30|                 8|         25000|\n",
      "|    Sunny|  29|         4| 20000|         29|                 4|         20000|\n",
      "|     Paul|  24|         3| 20000|         24|                 3|         20000|\n",
      "|   Harsha|  21|         1| 15000|         21|                 1|         15000|\n",
      "|  Shubham|  23|         2| 18000|         23|                 2|         18000|\n",
      "|   Mahesh|null|      null| 40000|         28|                 5|         40000|\n",
      "|     null|  34|        10| 38000|         34|                10|         38000|\n",
      "|     null|  36|      null|  null|         36|                 5|         25750|\n",
      "+---------+----+----------+------+-----------+------------------+--------------+\n",
      "\n"
     ]
    }
   ],
   "source": [
    "imputer.fit(pyspark_df).transform(pyspark_df).show()"
   ]
  },
  {
   "cell_type": "code",
   "execution_count": 42,
   "id": "14e72061",
   "metadata": {},
   "outputs": [],
   "source": [
    "imputer = Imputer(\n",
    "    inputCols=['age', 'Experience', 'Salary'],\n",
    "    outputCols=['{}_imputed'.format(col) for col in ['age', 'Experience', 'Salary']]\n",
    "    ).setStrategy(\"median\")"
   ]
  },
  {
   "cell_type": "code",
   "execution_count": 43,
   "id": "a8480995",
   "metadata": {},
   "outputs": [
    {
     "name": "stdout",
     "output_type": "stream",
     "text": [
      "+---------+----+----------+------+-----------+------------------+--------------+\n",
      "|     Name| age|Experience|Salary|age_imputed|Experience_imputed|Salary_imputed|\n",
      "+---------+----+----------+------+-----------+------------------+--------------+\n",
      "|    Krish|  31|        10| 30000|         31|                10|         30000|\n",
      "|Sudhanshu|  30|         8| 25000|         30|                 8|         25000|\n",
      "|    Sunny|  29|         4| 20000|         29|                 4|         20000|\n",
      "|     Paul|  24|         3| 20000|         24|                 3|         20000|\n",
      "|   Harsha|  21|         1| 15000|         21|                 1|         15000|\n",
      "|  Shubham|  23|         2| 18000|         23|                 2|         18000|\n",
      "|   Mahesh|null|      null| 40000|         29|                 4|         40000|\n",
      "|     null|  34|        10| 38000|         34|                10|         38000|\n",
      "|     null|  36|      null|  null|         36|                 4|         20000|\n",
      "+---------+----+----------+------+-----------+------------------+--------------+\n",
      "\n"
     ]
    }
   ],
   "source": [
    "imputer.fit(pyspark_df).transform(pyspark_df).show()"
   ]
  },
  {
   "cell_type": "code",
   "execution_count": null,
   "id": "6ed7e5af",
   "metadata": {},
   "outputs": [],
   "source": []
  }
 ],
 "metadata": {
  "kernelspec": {
   "display_name": "Python 3 (ipykernel)",
   "language": "python",
   "name": "python3"
  },
  "language_info": {
   "codemirror_mode": {
    "name": "ipython",
    "version": 3
   },
   "file_extension": ".py",
   "mimetype": "text/x-python",
   "name": "python",
   "nbconvert_exporter": "python",
   "pygments_lexer": "ipython3",
   "version": "3.9.7"
  }
 },
 "nbformat": 4,
 "nbformat_minor": 5
}
